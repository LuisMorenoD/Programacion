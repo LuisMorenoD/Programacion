{
  "nbformat": 4,
  "nbformat_minor": 0,
  "metadata": {
    "colab": {
      "provenance": [],
      "authorship_tag": "ABX9TyO0g13NycZ2fIODEGGIwJLA",
      "include_colab_link": true
    },
    "kernelspec": {
      "name": "python3",
      "display_name": "Python 3"
    },
    "language_info": {
      "name": "python"
    }
  },
  "cells": [
    {
      "cell_type": "markdown",
      "metadata": {
        "id": "view-in-github",
        "colab_type": "text"
      },
      "source": [
        "<a href=\"https://colab.research.google.com/github/LuisMorenoD/Programacion/blob/main/REPT_AE_1_2.ipynb\" target=\"_parent\"><img src=\"https://colab.research.google.com/assets/colab-badge.svg\" alt=\"Open In Colab\"/></a>"
      ]
    },
    {
      "cell_type": "code",
      "execution_count": null,
      "metadata": {
        "colab": {
          "base_uri": "https://localhost:8080/"
        },
        "id": "LZeQMvsPkOTE",
        "outputId": "036616f5-efe7-41c4-a8e7-122c9ceface2"
      },
      "outputs": [
        {
          "output_type": "stream",
          "name": "stdout",
          "text": [
            "Requirement already satisfied: pandas in /usr/local/lib/python3.10/dist-packages (2.1.4)\n",
            "Requirement already satisfied: openpyxl in /usr/local/lib/python3.10/dist-packages (3.1.5)\n",
            "Requirement already satisfied: numpy<2,>=1.22.4 in /usr/local/lib/python3.10/dist-packages (from pandas) (1.26.4)\n",
            "Requirement already satisfied: python-dateutil>=2.8.2 in /usr/local/lib/python3.10/dist-packages (from pandas) (2.8.2)\n",
            "Requirement already satisfied: pytz>=2020.1 in /usr/local/lib/python3.10/dist-packages (from pandas) (2024.2)\n",
            "Requirement already satisfied: tzdata>=2022.1 in /usr/local/lib/python3.10/dist-packages (from pandas) (2024.1)\n",
            "Requirement already satisfied: et-xmlfile in /usr/local/lib/python3.10/dist-packages (from openpyxl) (1.1.0)\n",
            "Requirement already satisfied: six>=1.5 in /usr/local/lib/python3.10/dist-packages (from python-dateutil>=2.8.2->pandas) (1.16.0)\n",
            "\n",
            " Practica # 1 de la Rúbrica 2.1\n",
            " Módulo ACRS-00: Análisis de Criptografía y Seguridad\n"
          ]
        }
      ],
      "source": [
        "# Instalar las bibliotecas necesarias\n",
        "!pip install pandas openpyxl\n",
        "\n",
        "import pandas as pd\n",
        "import random\n",
        "\n",
        "#Bienvenida\n",
        "print(\"\\n Practica # 1 de la Rúbrica 2.1\")\n",
        "print(\" Módulo REPT-00: Reconocimiento de Patrones\")\n",
        "\n",
        "# Lista de preguntas\n",
        "preguntas = [\n",
        "    \"Qué es un Lenguaje de programación​\",\n",
        "    \"Menciona un ejemplo de un Framework\",\n",
        "    \"¿Qué es Script?\",\n",
        "    \"Menciona un ejemplo utilizando: If​\",\n",
        "    \"Menciona un ejemplo utilizando: While​\",\n",
        "    \"Tengo estas tres palabras import, #Bibliografia y while. ¿Cuál de ellos es una función?\",\n",
        "    \"Es una declaración utilizada para incluir módulos o bibliotecas\",\n",
        "    \"Es una estructura de control, que mientras una condición específica sea verdadera se cumpla.\",\n",
        "    \"Que es una variable\",\n",
        "    \"Da un ejemplo de una variable\",\n",
        "    \"se utiliza para tareas de procesamiento de imágenes y visión por computadora\" ,\n",
        "    \"Para que me sirve la siguiente instrucción: imagen = cv2.imread('ruta_a_tu_imagen.jpg')\"\n",
        "]\n",
        "\n",
        "# Seleccionar 10 preguntas de manera aleatoria\n",
        "preguntas_seleccionadas = random.sample(preguntas, 10)\n",
        "\n",
        "# Diccionario para almacenar las respuestas de los estudiantes\n",
        "respuestas = {}\n",
        "\n",
        "# Pedir el nombre y matrícula del estudiante\n",
        "matricula_estudiante = input(\"Ingresa tu Matrícula: \")\n",
        "nombre_estudiante = input(\"Ingresa tu nombre completo: \")\n",
        "correo_estudiante = input(\"Ingresa tu correo institucional: \")\n",
        "\n",
        "# Presentar las preguntas seleccionadas y capturar las respuestas\n",
        "for i, pregunta in enumerate(preguntas_seleccionadas, 1):\n",
        "    respuesta = input(f\"{i}. {pregunta}\\nRespuesta: \")\n",
        "    respuestas[pregunta] = respuesta\n",
        "\n",
        "# Crear un DataFrame con las respuestas\n",
        "df_respuestas = pd.DataFrame(list(respuestas.items()), columns=['Pregunta', 'Respuesta'])\n",
        "\n",
        "# Nombre del archivo de Excel\n",
        "nombre_archivo = f\"respuestas_{matricula_estudiante}_{nombre_estudiante}.xlsx\"\n",
        "\n",
        "# Guardar las respuestas en un archivo Excel\n",
        "df_respuestas.to_excel(nombre_archivo, index=False)\n",
        "\n",
        "print(f\"\\nLas respuestas se han guardado en el archivo {nombre_archivo}.\")\n",
        "print(\"El maestro podrá revisar este archivo para evaluar las respuestas.\")"
      ]
    }
  ]
}